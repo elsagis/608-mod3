{
 "cells": [
  {
   "cell_type": "code",
   "execution_count": null,
   "id": "b6c76f52-f329-4dc9-ac9a-acc6425b97a3",
   "metadata": {},
   "outputs": [],
   "source": [
    "import random\n"
   ]
  },
  {
   "cell_type": "code",
   "execution_count": null,
   "id": "8ff46a82-505d-4f9e-8ab8-1a8832461276",
   "metadata": {},
   "outputs": [],
   "source": [
    "for roll in range"
   ]
  }
 ],
 "metadata": {
  "kernelspec": {
   "display_name": "Python 3 (ipykernel)",
   "language": "python",
   "name": "python3"
  },
  "language_info": {
   "codemirror_mode": {
    "name": "ipython",
    "version": 3
   },
   "file_extension": ".py",
   "mimetype": "text/x-python",
   "name": "python",
   "nbconvert_exporter": "python",
   "pygments_lexer": "ipython3",
   "version": "3.9.7"
  }
 },
 "nbformat": 4,
 "nbformat_minor": 5
}
