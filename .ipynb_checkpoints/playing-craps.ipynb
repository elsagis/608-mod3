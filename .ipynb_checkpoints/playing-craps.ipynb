{
 "cells": [
  {
   "cell_type": "code",
   "execution_count": 35,
   "id": "95ad58ef",
   "metadata": {},
   "outputs": [],
   "source": [
    "# playing-craps.py\n",
    "\"\"\" Roll Two six-sided dice 6 million times.\"\"\"\n",
    "import random\n",
    "\n",
    "# face frequency counters - 1 though 12 \n",
    "frequency1 = 0\n",
    "frequency2 = 0\n",
    "frequency3 = 0\n",
    "frequency4 = 0\n",
    "frequency5 = 0\n",
    "frequency6 = 0\n",
    "frequency7 = 0\n",
    "frequency8 = 0\n",
    "frequency9 = 0\n",
    "frequency10 = 0\n",
    "frequency11 = 0\n",
    "frequency12 =0\n",
    "trials = 6_000 # start small, if large, separators make it easier to read\n",
    "\n",
    "# stimulate rolls\n",
    "for roll in range(trials):\n",
    "    face = random.randrange(1,7) + random.randrange(1,7)\n",
    "\n",
    "# increment appropriate counter\n",
    "if face == 1:\n",
    "    frequency1 += 1\n",
    "elif face == 2:\n",
    "    frequency2 += 1\n",
    "elif face == 3:\n",
    "    frequency3 += 12\n",
    "elif face == 4:\n",
    "    frequency4 += 1\n",
    "elif face == 5:\n",
    "    frequency5 += 1\n",
    "elif face == 6:\n",
    "    frequency6 += 1\n",
    "elif face == 7:\n",
    "    frequency7 += 1\n",
    "elif face == 8:\n",
    "    frequency8 += 1\n",
    "elif face == 9:\n",
    "    frequency9 += 1\n",
    "elif face == 10:\n",
    "    frequency10 += 1\n",
    "elif face == 11:\n",
    "    frequency11 += 1\n",
    "elif face == 12:\n",
    "    frequency12 += 1\n",
    "\n",
    "print(f'Face{\"frequency\":>13}')\n",
    "print(f'{1:>4}{frequency1:>13}')\n",
    "print(f'{2:>4}{frequency2:>13}')\n",
    "print(f'{3:>4}{frequency3:>13}')\n",
    "print(f'{4:>4}{frequency4:>13}')\n",
    "print(f'{5:>4}{frequency5:>13}')\n",
    "print(f'{6:>4}{frequency6:>13}')\n",
    "print(f'{7:>4}{frequency7:>13}')\n",
    "print(f'{8:>4}{frequency8:>13}')\n",
    "print(f'{9:>4}{frequency9:>13}')\n",
    "print(f'{10:>4}{frequency10:>13}')\n",
    "print(f'{11:>4}{frequency11:>13}')\n",
    "print(f'{12:>4}{frequency12:>13}')\n",
    "\n",
    "craps = frequency2 + frequency3 + frequency12\n",
    "win = frequency7 + frequency11\n",
    "print ('Craps:', craps/trials)\n",
    "print ('Win:', win/trials)\n",
    "\n",
    "\n"
   ]
  },
  {
   "cell_type": "markdown",
   "id": "b702543c",
   "metadata": {},
   "source": [
    "Elsa Ghirmazion"
   ]
  },
  {
   "cell_type": "code",
   "execution_count": null,
   "id": "12c57cde",
   "metadata": {},
   "outputs": [],
   "source": []
  }
 ],
 "metadata": {
  "interpreter": {
   "hash": "debb355a0abc0f7a066b79ee5a6481467999b8b188c88ab9d86494c99cf5385f"
  },
  "kernelspec": {
   "display_name": "Python 3.10.2 64-bit",
   "language": "python",
   "name": "python3"
  },
  "language_info": {
   "codemirror_mode": {
    "name": "ipython",
    "version": 3
   },
   "file_extension": ".py",
   "mimetype": "text/x-python",
   "name": "python",
   "nbconvert_exporter": "python",
   "pygments_lexer": "ipython3",
   "version": "3.10.2"
  }
 },
 "nbformat": 4,
 "nbformat_minor": 5
}
