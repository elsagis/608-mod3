{
 "cells": [
  {
   "cell_type": "code",
   "execution_count": 2,
   "metadata": {},
   "outputs": [
    {
     "data": {
      "text/plain": [
       "98"
      ]
     },
     "execution_count": 2,
     "metadata": {},
     "output_type": "execute_result"
    }
   ],
   "source": [
    "def maximum(value1, value2, value3):\n",
    "    \"\"\"Return the maximum of three values.\"\"\"\n",
    "    max_value = value1\n",
    "    if value2 > max_value:\n",
    "        max_value = value2\n",
    "    if value3 > max_value:\n",
    "        max_value = value3\n",
    "    return max_value\n",
    "maximum(78, 87, 98)\n",
    "    "
   ]
  },
  {
   "cell_type": "code",
   "execution_count": 3,
   "id": "b4b92e90",
   "metadata": {},
   "outputs": [
    {
     "data": {
      "text/plain": [
       "78"
      ]
     },
     "execution_count": 3,
     "metadata": {},
     "output_type": "execute_result"
    }
   ],
   "source": [
    "def minimum(value1, value2, value3):\n",
    "    \"\"\"return the minimum of three values.\"\"\"\n",
    "    min_value = value1\n",
    "    if value2 < min_value:\n",
    "        min_value = value2\n",
    "    if value3 < min_value:\n",
    "        min_value = value3\n",
    "    return min_value\n",
    "minimum(78, 87, 98)\n",
    "\n",
    "\n",
    "    "
   ]
  },
  {
   "cell_type": "markdown",
   "id": "e667dac5",
   "metadata": {},
   "source": [
    "Elsa Ghirmazion"
   ]
  }
 ],
 "metadata": {
  "interpreter": {
   "hash": "debb355a0abc0f7a066b79ee5a6481467999b8b188c88ab9d86494c99cf5385f"
  },
  "kernelspec": {
   "display_name": "Python 3.10.2 64-bit",
   "language": "python",
   "name": "python3"
  },
  "language_info": {
   "codemirror_mode": {
    "name": "ipython",
    "version": 3
   },
   "file_extension": ".py",
   "mimetype": "text/x-python",
   "name": "python",
   "nbconvert_exporter": "python",
   "pygments_lexer": "ipython3",
   "version": "3.10.2"
  }
 },
 "nbformat": 4,
 "nbformat_minor": 5
}
